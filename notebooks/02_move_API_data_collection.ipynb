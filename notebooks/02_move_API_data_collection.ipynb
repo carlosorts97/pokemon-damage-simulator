{
 "cells": [
  {
   "cell_type": "markdown",
   "id": "ffff41ff-0f46-4e3f-982b-1edc328fec57",
   "metadata": {},
   "source": [
    "## Fetching Move Data from the Pokémon API for Damage Simulation\n",
    "\n",
    "In this notebook, we retrieve detailed information about Pokémon moves by querying the official Pokémon API. The extracted data includes move power, accuracy, type, priority, and damage class, which are essential attributes for accurately simulating battle damage. This step enables us to enrich our dataset with dynamic and up-to-date move characteristics necessary for building a reliable damage calculation model."
   ]
  },
  {
   "cell_type": "markdown",
   "id": "a533d0ef-a9c1-4196-bd41-5aca04fcfa9c",
   "metadata": {},
   "source": [
    "### Cleaned dataset loading"
   ]
  },
  {
   "cell_type": "code",
   "execution_count": 4,
   "id": "8152930e-b346-4c61-a336-a6987eeb1e27",
   "metadata": {},
   "outputs": [
    {
     "name": "stdout",
     "output_type": "stream",
     "text": [
      "<class 'pandas.core.frame.DataFrame'>\n",
      "RangeIndex: 1302 entries, 0 to 1301\n",
      "Data columns (total 19 columns):\n",
      " #   Column           Non-Null Count  Dtype \n",
      "---  ------           --------------  ----- \n",
      " 0   id               1302 non-null   int64 \n",
      " 1   name             1302 non-null   object\n",
      " 2   base_experience  1302 non-null   int64 \n",
      " 3   height           1302 non-null   int64 \n",
      " 4   weight           1302 non-null   int64 \n",
      " 5   abilities        1302 non-null   object\n",
      " 6   primary_type     1302 non-null   object\n",
      " 7   secondary_type   726 non-null    object\n",
      " 8   move_1           1268 non-null   object\n",
      " 9   move_2           1265 non-null   object\n",
      " 10  move_3           1263 non-null   object\n",
      " 11  move_4           1263 non-null   object\n",
      " 12  move_5           1262 non-null   object\n",
      " 13  hp               1302 non-null   int64 \n",
      " 14  attack           1302 non-null   int64 \n",
      " 15  defense          1302 non-null   int64 \n",
      " 16  special-attack   1302 non-null   int64 \n",
      " 17  special-defense  1302 non-null   int64 \n",
      " 18  speed            1302 non-null   int64 \n",
      "dtypes: int64(10), object(9)\n",
      "memory usage: 193.4+ KB\n"
     ]
    }
   ],
   "source": [
    "import pandas as pd\n",
    "\n",
    "# =================== Cargar dataset ===================\n",
    "dat_base = pd.read_csv(\"../data/pokemon_data_mod.csv\")\n",
    "\n",
    "dat_base.info()"
   ]
  },
  {
   "cell_type": "markdown",
   "id": "29b59215-a783-43d7-9f42-191edd8dc1ac",
   "metadata": {},
   "source": [
    "### Getting a Unique Move List from the Database"
   ]
  },
  {
   "cell_type": "code",
   "execution_count": 13,
   "id": "efdb5d91-bff2-49cd-8ec2-a66509e2259d",
   "metadata": {},
   "outputs": [
    {
     "name": "stdout",
     "output_type": "stream",
     "text": [
      "Total unique moves: 135\n",
      "\n",
      "List of unique moves:\n",
      "absorb, acid, acid-armor, agility, amnesia, attract, aurora-beam, bind, bite, blizzard, body-slam, bounce, bubble-beam, bug-bite, charge, charm, comet-punch, confuse-ray, confusion, cosmic-power, counter, cut, defense-curl, destiny-bond, dig, disable, double-edge, double-kick, double-slap, double-team, drill-peck, earthquake, electroweb, ember, fire-punch, fire-spin, flail, flamethrower, fly, fury-attack, growl, growth, guillotine, gust, harden, headbutt, hidden-power, horn-attack, horn-drill, hydro-pump, hyper-beam, ice-beam, ice-punch, infestation, iron-defense, jump-kick, karate-chop, knock-off, leech-seed, leer, light-screen, low-kick, mega-drain, mega-kick, mega-punch, mist, mud-slap, night-shade, pay-day, peck, petal-dance, pin-missile, poison-powder, poison-sting, pound, powder-snow, protect, psybeam, psychic, quick-attack, razor-leaf, razor-wind, recover, recycle, reflect, rest, roar, rock-throw, rolling-kick, rollout, sand-attack, scratch, screech, sing, sketch, slam, sleep-powder, smokescreen, snore, solar-beam, sonic-boom, spark, splash, sticky-web, stomp, strength, string-shot, struggle-bug, stun-spore, substitute, supersonic, surf, swift, swords-dance, tackle, tail-whip, take-down, teleport, thrash, thunder, thunder-punch, thunder-shock, thunder-wave, thunderbolt, toxic, transform, twineedle, vice-grip, vine-whip, water-gun, whirlwind, wing-attack, withdraw, wrap, zen-headbutt\n"
     ]
    }
   ],
   "source": [
    "# =================== Creación de lista de tipos y movimientos ===================\n",
    "# Crear un set vacío para guardar los movimientos únicos\n",
    "movimientos_unicos = set()\n",
    "\n",
    "# Iterar por las columnas de movimientos\n",
    "for col in ['move_1', 'move_2', 'move_3', 'move_4', 'move_5']:\n",
    "    # Agregar los valores no nulos de cada columna al set\n",
    "    movimientos_unicos.update(dat_base[col].dropna().str.strip())\n",
    "\n",
    "# Crear un set vacío para guardar los tipos únicos\n",
    "tipos_unicos = set()\n",
    "\n",
    "# Mostrar resultados de la list\n",
    "#Movimientos\n",
    "lista_movimientos_unicos = sorted(list(movimientos_unicos))\n",
    "print(f\"Total unique moves: {len(lista_movimientos_unicos)}\\n\")\n",
    "print(\"List of unique moves:\")\n",
    "print(\", \".join(lista_movimientos_unicos))"
   ]
  },
  {
   "cell_type": "markdown",
   "id": "3a038d9d-edb5-4db4-8a75-39e780f3ad71",
   "metadata": {},
   "source": [
    "### Getting Additional Info from the API for Every Unique Move, Including:\n",
    "- Power\n",
    "- Accuracy\n",
    "- PP (Power Points)\n",
    "- Priority\n",
    "- Type\n",
    "- Damage Class"
   ]
  },
  {
   "cell_type": "code",
   "execution_count": 16,
   "id": "61c480cd-c3b2-4294-b281-5d9c0614b5d6",
   "metadata": {},
   "outputs": [],
   "source": [
    "### Sacar info de los movimientos de la API\n",
    "#pip install requests\n",
    "import requests\n",
    "import time\n",
    "\n",
    "# Tu lista de movimientos únicos (reemplaza con la tuya si ya la tienes)\n",
    "#lista_movimientos_unicos_prueba = lista_movimientos_unicos[:5]\n",
    "\n",
    "# Lista para guardar los datos\n",
    "moves_data = []\n",
    "\n",
    "for move in lista_movimientos_unicos:\n",
    "    try:\n",
    "        url = f\"https://pokeapi.co/api/v2/move/{move.strip().lower()}/\"\n",
    "        res = requests.get(url)\n",
    "        if res.status_code == 200:\n",
    "            data = res.json()\n",
    "            move_info = {\n",
    "                \"name\": data[\"name\"],\n",
    "                \"power\": data[\"power\"],\n",
    "                \"accuracy\": data[\"accuracy\"],\n",
    "                \"pp\": data[\"pp\"],\n",
    "                \"priority\": data[\"priority\"],\n",
    "                \"type\": data[\"type\"][\"name\"],\n",
    "                \"damage_class\": data[\"damage_class\"][\"name\"]\n",
    "            }\n",
    "            moves_data.append(move_info)\n",
    "        else:\n",
    "            print(f\"No encontrado: {move}\")\n",
    "    except Exception as e:\n",
    "        print(f\"Error con {move}: {e}\")\n",
    "    time.sleep(0.2)  # Para no saturar la API\n",
    "\n",
    "# Convertir a DataFrame\n",
    "df_moves = pd.DataFrame(moves_data)"
   ]
  },
  {
   "cell_type": "code",
   "execution_count": 24,
   "id": "82e976b6-a582-46d0-bebc-5874f9002008",
   "metadata": {},
   "outputs": [
    {
     "name": "stdout",
     "output_type": "stream",
     "text": [
      "El archivo ya existe.\n",
      "         name  power  accuracy  pp  priority     type damage_class\n",
      "0      absorb   20.0     100.0  25         0    grass      special\n",
      "1        acid   40.0     100.0  30         0   poison      special\n",
      "2  acid-armor    NaN       NaN  20         0   poison       status\n",
      "3     agility    NaN       NaN  30         0  psychic       status\n",
      "4     amnesia    NaN       NaN  20         0  psychic       status\n"
     ]
    }
   ],
   "source": [
    "import os\n",
    "\n",
    "if os.path.exists(\"../data/movimientos_pokemon_info.csv\"):\n",
    "    print(\"El archivo ya existe.\")\n",
    "else:\n",
    "    #Guardamos la info obtenida de la api\n",
    "    df_moves.to_csv(\"../data/movimientos_pokemon_info.csv\", index=False)\n",
    "    \n",
    "print(df_moves.head())"
   ]
  }
 ],
 "metadata": {
  "kernelspec": {
   "display_name": "Python [conda env:base] *",
   "language": "python",
   "name": "conda-base-py"
  },
  "language_info": {
   "codemirror_mode": {
    "name": "ipython",
    "version": 3
   },
   "file_extension": ".py",
   "mimetype": "text/x-python",
   "name": "python",
   "nbconvert_exporter": "python",
   "pygments_lexer": "ipython3",
   "version": "3.12.7"
  }
 },
 "nbformat": 4,
 "nbformat_minor": 5
}
