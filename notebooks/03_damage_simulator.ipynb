{
 "cells": [
  {
   "cell_type": "markdown",
   "id": "3ea6c83e-014d-4647-adb5-700e9667c1ed",
   "metadata": {},
   "source": [
    "## Pokémon Damage Simulation with a Simplified Formula\n",
    "\n",
    "This notebook simulates Pokémon battle damage using a simplified version of the official damage formula. The calculation is based on the following core stats:\n",
    "\n",
    "- Level of the attacking Pokémon\n",
    "\n",
    "- Move power\n",
    "\n",
    "- Attacker's offensive stat (Attack or Special Attack)\n",
    "\n",
    "- Defender's defensive stat (Defense or Special Defense)\n",
    "\n",
    "- Type multipliers (STAB × effectiveness)\n",
    "\n",
    "This version excludes elements that add variability and complexity in actual games, such as:\n",
    "\n",
    "- The random damage factor (between 0.85 and 1.00)\n",
    "\n",
    "- Held items, abilities, weather conditions.\n",
    "\n",
    "- Critical effect (between x1,5 or x2)\n",
    "\n",
    "#### Why a Simplified Damage Formula?\n",
    "\n",
    "The goal of this simulation is to estimate generic damage values that can be applied across most situations, without the variability and complexity of real in-game mechanics.\n",
    "\n",
    "By focusing on the main stats (level, power, attack, defense, STAB, and type effectiveness), we can approximate how strong a move is in general terms.\n",
    "\n",
    "This allows us to compare moves or Pokémon consistently and interpretable, without needing to simulate all conditional modifiers like abilities, items, or weather."
   ]
  },
  {
   "cell_type": "markdown",
   "id": "3082a74d-1955-4ef5-b493-c03b86abf8ad",
   "metadata": {},
   "source": [
    "### 1. Importing Libraries and Loading Pokémon Data\n",
    "In this section, we import the necessary libraries and load the preprocessed Pokémon dataset (pokemon_data_mod.csv) along with the move information file (movimientos_pokemon_info.csv).\n",
    "\n",
    "We also display the structure of both DataFrames to verify the loaded data."
   ]
  },
  {
   "cell_type": "code",
   "execution_count": 3,
   "id": "0d14a7fb-fe5c-476d-b50f-113bb94ae0f9",
   "metadata": {},
   "outputs": [
    {
     "name": "stdout",
     "output_type": "stream",
     "text": [
      "<class 'pandas.core.frame.DataFrame'>\n",
      "RangeIndex: 1302 entries, 0 to 1301\n",
      "Data columns (total 19 columns):\n",
      " #   Column           Non-Null Count  Dtype \n",
      "---  ------           --------------  ----- \n",
      " 0   id               1302 non-null   int64 \n",
      " 1   name             1302 non-null   object\n",
      " 2   base_experience  1302 non-null   int64 \n",
      " 3   height           1302 non-null   int64 \n",
      " 4   weight           1302 non-null   int64 \n",
      " 5   abilities        1302 non-null   object\n",
      " 6   primary_type     1302 non-null   object\n",
      " 7   secondary_type   726 non-null    object\n",
      " 8   move_1           1268 non-null   object\n",
      " 9   move_2           1265 non-null   object\n",
      " 10  move_3           1263 non-null   object\n",
      " 11  move_4           1263 non-null   object\n",
      " 12  move_5           1262 non-null   object\n",
      " 13  hp               1302 non-null   int64 \n",
      " 14  attack           1302 non-null   int64 \n",
      " 15  defense          1302 non-null   int64 \n",
      " 16  special-attack   1302 non-null   int64 \n",
      " 17  special-defense  1302 non-null   int64 \n",
      " 18  speed            1302 non-null   int64 \n",
      "dtypes: int64(10), object(9)\n",
      "memory usage: 193.4+ KB\n",
      "<class 'pandas.core.frame.DataFrame'>\n",
      "RangeIndex: 135 entries, 0 to 134\n",
      "Data columns (total 7 columns):\n",
      " #   Column        Non-Null Count  Dtype  \n",
      "---  ------        --------------  -----  \n",
      " 0   name          135 non-null    object \n",
      " 1   power         81 non-null     float64\n",
      " 2   accuracy      106 non-null    float64\n",
      " 3   pp            135 non-null    int64  \n",
      " 4   priority      135 non-null    int64  \n",
      " 5   type          135 non-null    object \n",
      " 6   damage_class  135 non-null    object \n",
      "dtypes: float64(2), int64(2), object(3)\n",
      "memory usage: 7.5+ KB\n"
     ]
    }
   ],
   "source": [
    "###///Librerias///###\n",
    "import pandas as pd\n",
    "\n",
    "dat_base = pd.read_csv(\"../data/pokemon_data_mod.csv\")\n",
    "info_movimientos = pd.read_csv(\"../data/movimientos_pokemon_info.csv\")\n",
    "\n",
    "dat_base.info()\n",
    "info_movimientos.info()"
   ]
  },
  {
   "cell_type": "markdown",
   "id": "a7bc3cce-4893-418e-bd85-3b4d4a190cd5",
   "metadata": {},
   "source": [
    "### 2. Selecting a Test Pokémon and Retrieving Its Moves\n",
    "In this step, we select a single Pokémon from the dataset (pokemon_test) to simulate damage output.\n",
    "We extract the Pokémon's move list and use it to gather detailed information about each move from the info_movimientos DataFrame.\n",
    "\n",
    "Moves that are not found in the move info database are skipped with a warning, and we filter out any moves lacking a defined power value,\n",
    "since they are not usable for damage calculation."
   ]
  },
  {
   "cell_type": "code",
   "execution_count": 17,
   "id": "1c867464-f12f-4faf-8bd0-e90b2bda987b",
   "metadata": {},
   "outputs": [
    {
     "name": "stdin",
     "output_type": "stream",
     "text": [
      "Escribe el nombre del Pokémon:  groudon\n"
     ]
    },
    {
     "name": "stdout",
     "output_type": "stream",
     "text": [
      "\n",
      "¡Pokémon encontrado! Mostrando datos de: groudon\n"
     ]
    },
    {
     "data": {
      "text/plain": [
       "id                           383\n",
       "name                     groudon\n",
       "base_experience              302\n",
       "height                        35\n",
       "weight                      9500\n",
       "abilities                drought\n",
       "primary_type              ground\n",
       "secondary_type               NaN\n",
       "move_1                mega-punch\n",
       "move_2                fire-punch\n",
       "move_3             thunder-punch\n",
       "move_4              swords-dance\n",
       "move_5                       cut\n",
       "hp                           100\n",
       "attack                       150\n",
       "defense                      140\n",
       "special-attack               100\n",
       "special-defense               90\n",
       "speed                         90\n",
       "Name: 382, dtype: object"
      ]
     },
     "metadata": {},
     "output_type": "display_data"
    }
   ],
   "source": [
    "# Buscar Pokémon por nombre\n",
    "nombre = input(\"Escribe el nombre del Pokémon: \").lower()\n",
    "\n",
    "# Filtrar el DataFrame (ignora mayúsculas y minúsculas)\n",
    "resultados = dat_base[dat_base[\"name\"].str.lower() == nombre]\n",
    "\n",
    "if not resultados.empty:\n",
    "    pokemon_test = resultados.iloc[0]\n",
    "    print(f\"\\n¡Pokémon encontrado! Mostrando datos de: {pokemon_test['name']}\")\n",
    "    display(pokemon_test)\n",
    "else:\n",
    "    print(\"Pokémon no encontrado en la base de datos.\")"
   ]
  },
  {
   "cell_type": "code",
   "execution_count": 19,
   "id": "a6be779a-6405-4d5e-be69-aff7cb0cc7eb",
   "metadata": {},
   "outputs": [
    {
     "name": "stdout",
     "output_type": "stream",
     "text": [
      "            name  power  accuracy  pp  priority      type damage_class\n",
      "0     mega-punch   80.0      85.0  20         0    normal     physical\n",
      "1     fire-punch   75.0     100.0  15         0      fire     physical\n",
      "2  thunder-punch   75.0     100.0  15         0  electric     physical\n",
      "3   swords-dance    NaN       NaN  20         0    normal       status\n",
      "4            cut   50.0      95.0  30         0    normal     physical\n",
      "            name  power  accuracy  pp  priority      type damage_class\n",
      "0     mega-punch   80.0      85.0  20         0    normal     physical\n",
      "1     fire-punch   75.0     100.0  15         0      fire     physical\n",
      "2  thunder-punch   75.0     100.0  15         0  electric     physical\n",
      "3            cut   50.0      95.0  30         0    normal     physical\n"
     ]
    }
   ],
   "source": [
    "#Cogemos la lista de movimientos del pokemon y obtenemos los datos de este que estan en info_movimientos\n",
    "df_moves = pd.DataFrame()\n",
    "lista_moves=[]\n",
    "\n",
    "lista_moves = [pokemon_test[\"move_1\"], pokemon_test[\"move_2\"], pokemon_test[\"move_3\"], pokemon_test[\"move_4\"], pokemon_test[\"move_5\"]]\n",
    "\n",
    "for mov in lista_moves:\n",
    "    # Filtrar la fila en info_movimientos donde el nombre es igual a mov\n",
    "    fila = info_movimientos[info_movimientos['name'] == mov]\n",
    "    \n",
    "    if not fila.empty:\n",
    "        df_moves = pd.concat([df_moves, fila], ignore_index=True)\n",
    "        \n",
    "    else:\n",
    "        print(f\"Movimiento {mov} no encontrado en info_movimientos\")\n",
    "print(df_moves)\n",
    "\n",
    "#Borramos aquellos movimientos que no tienen poder de ataque\n",
    "df_moves = df_moves[df_moves[\"power\"].notna()].reset_index(drop=True)\n",
    "print(df_moves)"
   ]
  },
  {
   "cell_type": "markdown",
   "id": "0daba4b5-abce-4a15-8064-d6e0d896c5f7",
   "metadata": {},
   "source": [
    "### 3. Type Effectiveness Table\n",
    "A dictionary named efectividad is defined to represent the damage relationships between Pokémon types.\n",
    "\n",
    "Each key corresponds to the attack move’s type, and each subkey indicates the defender’s type along with the damage multiplier (e.g., 2.0 for super effective, 0.5 for not very effective, and 0.0 for no effect).\n",
    "\n",
    "This table is essential for calculating the type modifier in damage formulas."
   ]
  },
  {
   "cell_type": "code",
   "execution_count": null,
   "id": "67434cad-7bd1-4226-9633-bd542b9c78de",
   "metadata": {},
   "outputs": [],
   "source": [
    "#tabla efectividad tipos\n",
    "efectividad = {\n",
    "    'normal':   {'rock': 0.5, 'ghost': 0.0, 'steel': 0.5},\n",
    "    'fire':     {'fire': 0.5, 'water': 0.5, 'grass': 2.0, 'ice': 2.0, 'bug': 2.0, 'rock': 0.5, 'dragon': 0.5, 'steel': 2.0},\n",
    "    'water':    {'fire': 2.0, 'water': 0.5, 'grass': 0.5, 'ground': 2.0, 'rock': 2.0, 'dragon': 0.5},\n",
    "    'electric': {'water': 2.0, 'electric': 0.5, 'grass': 0.5, 'ground': 0.0, 'flying': 2.0, 'dragon': 0.5},\n",
    "    'grass':    {'fire': 0.5, 'water': 2.0, 'grass': 0.5, 'poison': 0.5, 'ground': 2.0, 'flying': 0.5, 'bug': 0.5, 'rock': 2.0, 'dragon': 0.5, 'steel': 0.5},\n",
    "    'ice':      {'fire': 0.5, 'water': 0.5, 'grass': 2.0, 'ice': 0.5, 'ground': 2.0, 'flying': 2.0, 'dragon': 2.0, 'steel': 0.5},\n",
    "    'fighting': {'normal': 2.0, 'ice': 2.0, 'poison': 0.5, 'flying': 0.5, 'psychic': 0.5, 'bug': 0.5, 'rock': 2.0, 'ghost': 0.0, 'dark': 2.0, 'steel': 2.0, 'fairy': 0.5},\n",
    "    'poison':   {'grass': 2.0, 'poison': 0.5, 'ground': 0.5, 'rock': 0.5, 'ghost': 0.5, 'steel': 0.0, 'fairy': 2.0},\n",
    "    'ground':   {'fire': 2.0, 'electric': 2.0, 'grass': 0.5, 'poison': 2.0, 'flying': 0.0, 'bug': 0.5, 'rock': 2.0, 'steel': 2.0},\n",
    "    'flying':   {'electric': 0.5, 'grass': 2.0, 'fighting': 2.0, 'bug': 2.0, 'rock': 0.5, 'steel': 0.5},\n",
    "    'psychic':  {'fighting': 2.0, 'poison': 2.0, 'psychic': 0.5, 'dark': 0.0, 'steel': 0.5},\n",
    "    'bug':      {'fire': 0.5, 'grass': 2.0, 'fighting': 0.5, 'poison': 0.5, 'flying': 0.5, 'psychic': 2.0, 'ghost': 0.5, 'dark': 2.0, 'steel': 0.5, 'fairy': 0.5},\n",
    "    'rock':     {'fire': 2.0, 'ice': 2.0, 'fighting': 0.5, 'ground': 0.5, 'flying': 2.0, 'bug': 2.0, 'steel': 0.5},\n",
    "    'ghost':    {'normal': 0.0, 'psychic': 2.0, 'ghost': 2.0, 'dark': 0.5},\n",
    "    'dragon':   {'dragon': 2.0, 'steel': 0.5, 'fairy': 0.0},\n",
    "    'dark':     {'fighting': 0.5, 'psychic': 2.0, 'ghost': 2.0, 'dark': 0.5, 'fairy': 0.5},\n",
    "    'steel':    {'fire': 0.5, 'water': 0.5, 'electric': 0.5, 'ice': 2.0, 'rock': 2.0, 'steel': 0.5, 'fairy': 2.0},\n",
    "    'fairy':    {'fire': 0.5, 'fighting': 2.0, 'poison': 0.5, 'dragon': 2.0, 'dark': 2.0, 'steel': 0.5},\n",
    "}"
   ]
  },
  {
   "cell_type": "markdown",
   "id": "5c748101-7bc3-4bd9-80be-7de8f75fb7b8",
   "metadata": {},
   "source": [
    "### 4. STAB Calculation (Same Type Attack Bonus)\n",
    "This section calculates the STAB multiplier for each move of the selected Pokémon.\n",
    "\n",
    "A move receives a 1.5× damage boost if its type matches either of the Pokémon's types (primary_type or secondary_type).\n",
    "\n",
    "The script iterates through the selected Pokémon's moves, checks for type match, assigns the appropriate STAB value (1.5 or 1), and stores the result in a new column stab in df_moves."
   ]
  },
  {
   "cell_type": "code",
   "execution_count": null,
   "id": "d8c0684e-5b41-4bef-93bb-cf8db198c96e",
   "metadata": {},
   "outputs": [],
   "source": [
    "#STAB\n",
    "stab_values = []\n",
    "tipo_ataque=[]\n",
    "\n",
    "tipo_ataque = [pokemon_test[\"primary_type\"], pokemon_test[\"secondary_type\"]]\n",
    "\n",
    "for _, row in df_moves.iterrows():\n",
    "    mov_type = row[\"type\"]  # Tipo del movimiento\n",
    "    if mov_type in tipo_ataque:    # ¿Está en los tipos del Pokémon?\n",
    "        stab = 1.5\n",
    "        print(f\"Mismo tipo: {mov_type}\")\n",
    "    else:\n",
    "        stab = 1\n",
    "        print(f\"Diferente tipo: {mov_type}\")\n",
    "    stab_values.append(stab)\n",
    "\n",
    "# Añadir la columna STAB al DataFrame\n",
    "df_moves[\"stab\"] = stab_values\n",
    "\n",
    "print(df_moves)"
   ]
  },
  {
   "cell_type": "markdown",
   "id": "8e65256c-84af-46e5-bc06-d08c5381a1ce",
   "metadata": {},
   "source": [
    "### 5. Type Effectiveness Multiplier Function\n",
    "This function calculates the total type effectiveness multiplier based on the move's type and the defender's type(s).\n",
    "\n",
    "It uses a nested dictionary (efectividad) that encodes how effective each attacking type is against each defending type. For dual-type defenders, it multiplies the effectiveness values for both types. If any type is missing (None or NaN), the function treats it as neutral (1.0).\n",
    "\n",
    "This multiplier is a crucial factor in determining final damage output."
   ]
  },
  {
   "cell_type": "code",
   "execution_count": null,
   "id": "33add43b-844c-4180-acc7-c184f89c5165",
   "metadata": {},
   "outputs": [],
   "source": [
    "def obtener_multiplicador(tipo_movimiento, tipos_defensor, efectividad):\n",
    "    \"\"\"\n",
    "    Calcula el multiplicador total de efectividad dado un tipo de ataque\n",
    "    y una lista de tipos de defensa.\n",
    "\n",
    "    Args:\n",
    "        tipo_movimiento (str): tipo del movimiento (ataque).\n",
    "        tipos_defensor (list): lista de tipos del Pokémon defensor.\n",
    "        efectividad (dict): diccionario de efectividad tipo vs tipo.\n",
    "\n",
    "    Returns:\n",
    "        float: multiplicador total.\n",
    "    \"\"\"\n",
    "    if tipo_movimiento is None or tipo_movimiento != tipo_movimiento:  # NaN check\n",
    "       return 1.0\n",
    "\n",
    "    multiplicador = 1.0\n",
    "    for tipo_def in tipos_defensor:\n",
    "        if tipo_def is None or tipo_def != tipo_def:  # NaN check\n",
    "            continue\n",
    "        mult = efectividad.get(tipo_movimiento, {}).get(tipo_def, 1.0)\n",
    "        multiplicador *= mult\n",
    "\n",
    "    return multiplicador"
   ]
  },
  {
   "cell_type": "markdown",
   "id": "9ffa17e8-da08-4f18-8a50-e89a67b0781a",
   "metadata": {},
   "source": [
    "### 5.1. Compute Type Multipliers Against All Pokémon\n",
    "This loop **evaluates how each move of the selected Pokémon would perform against every other Pokémon in the dataset**.\n",
    "\n",
    "For each move, the script:\n",
    "\n",
    "- Extracts its **type, power, STAB multiplier, and damage class**.\n",
    "\n",
    "- Iterates through all other Pokémon, retrieving their primary and secondary types, as well as their physical and special defenses.\n",
    "\n",
    "- Calculates the type effectiveness multiplier using the helper function **obtener_multiplicador()**.\n",
    "\n",
    "All this information is stored in a new DataFrame df_mult, where each row represents a specific move against a specific defending Pokémon."
   ]
  },
  {
   "cell_type": "code",
   "execution_count": null,
   "id": "045e38c9-ad66-4e9b-afa3-95ae479e83cf",
   "metadata": {},
   "outputs": [],
   "source": [
    "#Bucle para obtener los multiplicadores con todos los pokemons\n",
    "\n",
    "#pokemon seleccionado\n",
    "print(\"El pokémon seleccionado:\",pokemon_test['name'])\n",
    "\n",
    "# Lista para guardar filas\n",
    "filas = []\n",
    "\n",
    "for _, mov in df_moves.iterrows():\n",
    "    tipo_mov = mov['type']\n",
    "    nombre_mov = mov['name']\n",
    "    stab = mov['stab']\n",
    "    poder = mov['power']\n",
    "    clase_daño = mov['damage_class']\n",
    "    \n",
    "    for _, poke in dat_base.iterrows():\n",
    "        nombre_poke = poke['name']\n",
    "        tipos_defensor = [poke['primary_type'], poke['secondary_type']]\n",
    "        defensa = poke['defense']\n",
    "        def_esp = poke['special-defense']\n",
    "        mult = obtener_multiplicador(tipo_mov, tipos_defensor, efectividad)\n",
    "        \n",
    "        filas.append({\n",
    "            \"pokemon_defensor\": nombre_poke,\n",
    "            \"nombre_mov\": nombre_mov,\n",
    "            \"movimiento_tipo\": tipo_mov,\n",
    "            \"stab\": stab,\n",
    "            \"poder\": poder,\n",
    "            \"clase_daño\": clase_daño,\n",
    "            \"tipos_defensor\": tipos_defensor,\n",
    "            \"def\": defensa,\n",
    "            \"def_esp\": def_esp,\n",
    "            \"multiplicador\": mult\n",
    "        })\n",
    "\n",
    "# Crear DataFrame con toda la info\n",
    "df_mult = pd.DataFrame(filas)\n",
    "\n",
    "print(df_mult)"
   ]
  },
  {
   "cell_type": "markdown",
   "id": "cabe023d-7e37-4510-aff1-a984633a64fc",
   "metadata": {},
   "source": [
    "### 6. Base Damage Calculation Function\n",
    "This function **implements a simplified version of the Pokémon damage formula**, where the final damage output is calculated using the attacker's level, move power, offensive stat (Attack or Special Attack), the defender's corresponding defensive stat, and the combined multiplier of STAB and type effectiveness.\n",
    "\n",
    "*The formula does not include randomness (the 0.85–1.00 factor in the actual games), nor does it account for situational elements such as held items, abilities, or weather effects. It aims to offer a generic estimation of damage across most typical battle scenarios."
   ]
  },
  {
   "cell_type": "code",
   "execution_count": null,
   "id": "78a83a2b-0c33-42c2-a952-f5a031122e6c",
   "metadata": {},
   "outputs": [],
   "source": [
    "def calcular_dano_base(nivel, poder, ataque_atacante, defensa_defensor, multiplicador_total):\n",
    "    \"\"\"\n",
    "    Fórmula simplificada de daño base en Pokémon.\n",
    "    \"\"\"\n",
    "    dano = (((2 * nivel / 5 + 2) * poder * ataque_atacante / defensa_defensor) / 50 + 2) * multiplicador_total\n",
    "    return dano"
   ]
  },
  {
   "cell_type": "markdown",
   "id": "ed296d5f-da07-4fb4-bb88-fee91e43caf7",
   "metadata": {},
   "source": [
    "### 6.1. Loop to Estimate Damage Against All Opponents\n",
    "In this section, we simulate how much damage the selected Pokémon would deal to every other Pokémon in the dataset using each of its valid offensive moves.\n",
    "The loop retrieves the necessary attributes — move power, type, STAB, and offensive/defensive stats — and applies the simplified damage formula to compute an estimated damage value.\n",
    "\n",
    "We differentiate between physical and special moves to choose the correct attacking and defending stats. The resulting estimated damage values are saved into a new DataFrame (df_result) for further inspection or comparison.\n",
    "\n",
    "This allows us to approximate how effective each move would be against various opponents, providing a general-purpose insight into offensive capabilities."
   ]
  },
  {
   "cell_type": "code",
   "execution_count": null,
   "id": "b1bf03f2-bb00-4a65-aa62-71c88072acc9",
   "metadata": {},
   "outputs": [],
   "source": [
    "###////////////Bucle para extraer los datos////////////###\n",
    "nombre_ataque = pokemon_test[\"name\"]\n",
    "ataque = pokemon_test[\"attack\"]\n",
    "ataque_esp = pokemon_test[\"special-attack\"]\n",
    "\n",
    "filas = []\n",
    "\n",
    "print(f\"\\n→ Calculando daño causado por {nombre_ataque}:\\n\")\n",
    "\n",
    "nivel = 50\n",
    "\n",
    "for _, poke in df_mult.iterrows():\n",
    "    nombre_defensa = poke[\"pokemon_defensor\"]\n",
    "    poder = poke[\"poder\"]\n",
    "    clase_daño = poke[\"clase_daño\"]\n",
    "    defensa = poke[\"def\"]\n",
    "    defensa_esp = poke[\"def_esp\"]\n",
    "    mult = poke[\"multiplicador\"]\n",
    "    stab = poke[\"stab\"]\n",
    "    multiplicador_total = mult * stab\n",
    "\n",
    "    if clase_daño == \"physical\":\n",
    "        dano = calcular_dano_base(nivel, poder, ataque, defensa, multiplicador_total)\n",
    "    else:\n",
    "        dano = calcular_dano_base(nivel, poder, ataque_esp, defensa_esp, multiplicador_total)\n",
    "\n",
    "    print(f\" a {nombre_defensa} es de {dano:.2f} (Clase: {clase_daño})\")\n",
    "    filas.append({\n",
    "        \"pokemon_atacante\": nombre_ataque,\n",
    "        \"pokemon_defensor\": nombre_defensa,\n",
    "        \"nombre_mov\": nombre_mov,\n",
    "        \"movimiento_tipo\": tipo_mov,\n",
    "        \"stab\": stab,\n",
    "        \"poder\": poder,\n",
    "        \"clase_daño\": clase_daño,\n",
    "        \"tipos_defensor\": tipos_defensor,\n",
    "        \"def\": defensa,\n",
    "        \"def_esp\": defensa_esp,\n",
    "        \"multiplicador\": mult,\n",
    "        \"multiplicador_total\": multiplicador_total,\n",
    "        \"daño_estimado\": dano\n",
    "    })\n",
    "# Crear DataFrame con toda la info\n",
    "df_result = pd.DataFrame(filas)"
   ]
  }
 ],
 "metadata": {
  "kernelspec": {
   "display_name": "Python [conda env:base] *",
   "language": "python",
   "name": "conda-base-py"
  },
  "language_info": {
   "codemirror_mode": {
    "name": "ipython",
    "version": 3
   },
   "file_extension": ".py",
   "mimetype": "text/x-python",
   "name": "python",
   "nbconvert_exporter": "python",
   "pygments_lexer": "ipython3",
   "version": "3.12.7"
  }
 },
 "nbformat": 4,
 "nbformat_minor": 5
}
