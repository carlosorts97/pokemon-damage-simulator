{
 "cells": [
  {
   "cell_type": "markdown",
   "id": "453c0021-dfcc-42d8-869d-49b062f7e939",
   "metadata": {},
   "source": [
    "# Data Preprocessing for Pokémon Dataset\n",
    "#### Source: Kaggle – Pokémon Dataset\n",
    "#### Author: Tanishk Sharma\n",
    "\n",
    "### 🧹 Cleaning and Transforming Pokémon Data for Analysis\n",
    "This notebook focuses on parsing, cleaning, and transforming the original dataset to extract useful information about Pokémon types, stats, and moves. The goal is to prepare a structured and usable dataset for future analysis and simulations, such as battle damage estimation or machine learning tasks."
   ]
  },
  {
   "cell_type": "markdown",
   "id": "2fed5e16-1bd4-4048-90fd-dc32313318e8",
   "metadata": {},
   "source": [
    "#### Dataset Loading and Initial Exploration"
   ]
  },
  {
   "cell_type": "code",
   "execution_count": 5,
   "id": "3e526901-656e-4d2d-a286-d8117ca82dc4",
   "metadata": {},
   "outputs": [
    {
     "name": "stdout",
     "output_type": "stream",
     "text": [
      "<class 'pandas.core.frame.DataFrame'>\n",
      "RangeIndex: 1302 entries, 0 to 1301\n",
      "Data columns (total 9 columns):\n",
      " #   Column           Non-Null Count  Dtype \n",
      "---  ------           --------------  ----- \n",
      " 0   id               1302 non-null   int64 \n",
      " 1   name             1302 non-null   object\n",
      " 2   base_experience  1302 non-null   int64 \n",
      " 3   height           1302 non-null   int64 \n",
      " 4   weight           1302 non-null   int64 \n",
      " 5   types            1302 non-null   object\n",
      " 6   abilities        1302 non-null   object\n",
      " 7   moves            1268 non-null   object\n",
      " 8   stats            1302 non-null   object\n",
      "dtypes: int64(4), object(5)\n",
      "memory usage: 91.7+ KB\n"
     ]
    }
   ],
   "source": [
    "import pandas as pd\n",
    "\n",
    "# =================== Cargar dataset ===================\n",
    "dat_base = pd.read_csv(\"../data/pokemon_data.csv\")\n",
    "dat_base.info()"
   ]
  },
  {
   "cell_type": "markdown",
   "id": "6b922e7c-330d-4fe1-9ca3-ee1a22f69490",
   "metadata": {},
   "source": [
    "#### Unpacking Composite Columns: Types, Moves, and Stats"
   ]
  },
  {
   "cell_type": "code",
   "execution_count": 31,
   "id": "3f107de8-5d2c-4b71-a69d-2f07b2698c6d",
   "metadata": {},
   "outputs": [],
   "source": [
    "# =================== Separar tipos ===================\n",
    "# Separar la columna 'types' en 'type_1' y 'type_2' directamente en la copia\n",
    "dat_base[['primary_type', 'secondary_type']] = dat_base['types'].str.split(',', n=1, expand=True)\n",
    "\n",
    "# Limpiar espacios\n",
    "dat_base['primary_type'] = dat_base['primary_type'].str.strip()\n",
    "dat_base['secondary_type'] = dat_base['secondary_type'].str.strip()\n",
    "\n",
    "# =================== Separar Movimientos ===================\n",
    "# Separar la columna 'moves' en 'move_1', 'move_2', 'move_3', 'move_4' y 'move_5'\n",
    "dat_base[['move_1', 'move_2', 'move_3', 'move_4', 'move_5']] = dat_base['moves'].str.split(',', n=4, expand=True)\n",
    "\n",
    "# Limpiar espacios\n",
    "dat_base['move_1'] = dat_base['move_1'].str.strip()\n",
    "dat_base['move_2'] = dat_base['move_2'].str.strip()\n",
    "dat_base['move_3'] = dat_base['move_3'].str.strip()\n",
    "dat_base['move_4'] = dat_base['move_4'].str.strip()\n",
    "dat_base['move_5'] = dat_base['move_5'].str.strip()\n",
    "\n",
    "# =================== Separar Stats ===================\n",
    "# Separar la columna 'stats' en columnas específicas\n",
    "dat_base[['hp', 'attack', 'defense', 'special-attack', 'special-defense', 'speed']] = dat_base['stats'].str.split(',', n=5, expand=True)\n",
    "\n",
    "# Limpiar espacios en las columnas de stats\n",
    "dat_base['hp'] = dat_base['hp'].str.strip()\n",
    "dat_base['attack'] = dat_base['attack'].str.strip()\n",
    "dat_base['defense'] = dat_base['defense'].str.strip()\n",
    "dat_base['special-attack'] = dat_base['special-attack'].str.strip()\n",
    "dat_base['special-defense'] = dat_base['special-defense'].str.strip()\n",
    "dat_base['speed'] = dat_base['speed'].str.strip()\n",
    "\n",
    "\n",
    "if '=' in str(dat_base[\"hp\"].iloc[0]):\n",
    "    dat_base[\"hp\"] = dat_base[\"hp\"].str.split('=').str[1].astype('int64')\n",
    "if '=' in str(dat_base[\"attack\"].iloc[0]):\n",
    "    dat_base[\"attack\"] = dat_base[\"attack\"].str.split('=').str[1].astype('int64')\n",
    "if '=' in str(dat_base[\"defense\"].iloc[0]):\n",
    "    dat_base[\"defense\"] = dat_base[\"defense\"].str.split('=').str[1].astype('int64')\n",
    "if '=' in str(dat_base[\"special-attack\"].iloc[0]):\n",
    "    dat_base[\"special-attack\"] = dat_base[\"special-attack\"].str.split('=').str[1].astype('int64')\n",
    "if '=' in str(dat_base[\"special-defense\"].iloc[0]):\n",
    "    dat_base[\"special-defense\"] = dat_base[\"special-defense\"].str.split('=').str[1].astype('int64')\n",
    "if '=' in str(dat_base[\"speed\"].iloc[0]):\n",
    "    dat_base[\"speed\"] = dat_base[\"speed\"].str.split('=').str[1].astype('int64')\n",
    "\n",
    "# Eliminar columnas separadas\n",
    "cols_to_drop = ['types', 'moves', 'stats']\n",
    "cols_presentes = [col for col in cols_to_drop if col in dat_base.columns]\n",
    "\n",
    "if cols_presentes:\n",
    "    dat_base = dat_base.drop(cols_presentes, axis=1)\n",
    "\n",
    "# Quitar valores NA\n",
    "dat_base = dat_base.fillna(\"\")"
   ]
  },
  {
   "cell_type": "markdown",
   "id": "0a98addc-f847-4b73-911b-2345381b7852",
   "metadata": {},
   "source": [
    "#### Exporting the Cleaned Dataset"
   ]
  },
  {
   "cell_type": "code",
   "execution_count": 35,
   "id": "2cff0fc3-2a01-4ddd-8daf-a06165d5e7de",
   "metadata": {},
   "outputs": [
    {
     "name": "stdout",
     "output_type": "stream",
     "text": [
      "<class 'pandas.core.frame.DataFrame'>\n",
      "RangeIndex: 1302 entries, 0 to 1301\n",
      "Data columns (total 19 columns):\n",
      " #   Column           Non-Null Count  Dtype \n",
      "---  ------           --------------  ----- \n",
      " 0   id               1302 non-null   int64 \n",
      " 1   name             1302 non-null   object\n",
      " 2   base_experience  1302 non-null   int64 \n",
      " 3   height           1302 non-null   int64 \n",
      " 4   weight           1302 non-null   int64 \n",
      " 5   abilities        1302 non-null   object\n",
      " 6   primary_type     1302 non-null   object\n",
      " 7   secondary_type   726 non-null    object\n",
      " 8   move_1           1268 non-null   object\n",
      " 9   move_2           1265 non-null   object\n",
      " 10  move_3           1263 non-null   object\n",
      " 11  move_4           1263 non-null   object\n",
      " 12  move_5           1262 non-null   object\n",
      " 13  hp               1302 non-null   int64 \n",
      " 14  attack           1302 non-null   int64 \n",
      " 15  defense          1302 non-null   int64 \n",
      " 16  special-attack   1302 non-null   int64 \n",
      " 17  special-defense  1302 non-null   int64 \n",
      " 18  speed            1302 non-null   int64 \n",
      "dtypes: int64(10), object(9)\n",
      "memory usage: 193.4+ KB\n"
     ]
    }
   ],
   "source": [
    "# Guardar como CSV\n",
    "dat_base.to_csv(\"../data/pokemon_data_mod.csv\", index=False)\n",
    "\n",
    "db = pd.read_csv(\"../data/pokemon_data_mod.csv\")\n",
    "db.info()"
   ]
  }
 ],
 "metadata": {
  "kernelspec": {
   "display_name": "Python [conda env:base] *",
   "language": "python",
   "name": "conda-base-py"
  },
  "language_info": {
   "codemirror_mode": {
    "name": "ipython",
    "version": 3
   },
   "file_extension": ".py",
   "mimetype": "text/x-python",
   "name": "python",
   "nbconvert_exporter": "python",
   "pygments_lexer": "ipython3",
   "version": "3.12.7"
  }
 },
 "nbformat": 4,
 "nbformat_minor": 5
}
